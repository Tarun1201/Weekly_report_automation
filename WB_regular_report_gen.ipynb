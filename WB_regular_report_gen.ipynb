{
 "cells": [
  {
   "cell_type": "code",
   "execution_count": 83,
   "metadata": {},
   "outputs": [],
   "source": [
    "from pptx import Presentation\n",
    "from pptx.util import Pt, Inches\n",
    "from pptx.dml.color import RGBColor\n",
    "from pptx.enum.text import PP_ALIGN\n",
    "import pandas as pd\n",
    "from datetime import datetime, timedelta\n",
    "from functools import reduce\n",
    "import os\n",
    "from pptx.chart.data import CategoryChartData\n",
    "from pptx.enum.chart import XL_CHART_TYPE\n",
    "from pptx.enum.chart import XL_MARKER_STYLE, XL_LABEL_POSITION\n"
   ]
  },
  {
   "cell_type": "code",
   "execution_count": 84,
   "metadata": {},
   "outputs": [],
   "source": [
    "######                              DATE DATA                   #####\n",
    "\n",
    "start_date = datetime(2024, 9, 29)\n",
    "end_date = start_date + timedelta(days=6)\n",
    "analysis_date = '11th Oct\\'24'"
   ]
  },
  {
   "cell_type": "code",
   "execution_count": 45,
   "metadata": {},
   "outputs": [],
   "source": [
    "def hex_to_rgb(hex_color):\n",
    "    hex_color = hex_color.lstrip('#')\n",
    "    return RGBColor(int(hex_color[0:2], 16), int(hex_color[2:4], 16), int(hex_color[4:6], 16))"
   ]
  },
  {
   "cell_type": "code",
   "execution_count": 46,
   "metadata": {},
   "outputs": [],
   "source": [
    "def merge_dfs(df_list, on_column):\n",
    "    return reduce(lambda left, right: pd.merge(left, right, on=on_column, how='outer'), df_list)"
   ]
  },
  {
   "cell_type": "code",
   "execution_count": 47,
   "metadata": {},
   "outputs": [],
   "source": [
    "def text_formatter(text_frame, font_size, font_name, alignment, font_color):\n",
    "    for paragraph in text_frame.paragraphs:\n",
    "        for run in paragraph.runs:\n",
    "            run.font.size = Pt(font_size)\n",
    "            run.font.name = font_name\n",
    "            if isinstance(font_color, str):\n",
    "                run.font.color.rgb = RGBColor.from_string(font_color.replace('#', ''))\n",
    "            elif isinstance(font_color, RGBColor):\n",
    "                run.font.color.rgb = font_color\n",
    "        paragraph.alignment = alignment"
   ]
  },
  {
   "cell_type": "code",
   "execution_count": 48,
   "metadata": {},
   "outputs": [],
   "source": [
    "def add_date_textbox(ppt, slide_number, left, top, width, height, text, font_size, font_color_hex, font):\n",
    "\n",
    "    font_color = hex_to_rgb(font_color_hex)\n",
    "    textbox = ppt.slides[slide_number].shapes.add_textbox(left, top, width, height)\n",
    "    \n",
    "    p = textbox.text_frame.add_paragraph()\n",
    "    p.text = text\n",
    "    p.font.size = Pt(font_size)\n",
    "    p.font.color.rgb = font_color\n",
    "    p.font.name = font"
   ]
  },
  {
   "cell_type": "code",
   "execution_count": 49,
   "metadata": {},
   "outputs": [],
   "source": [
    "def mil_k_mapper(value):\n",
    "    if value / 1000000 > 1:\n",
    "        return str(round(value / 1000000, 1)) + 'M'\n",
    "    else:\n",
    "        return str(round(value / 1000, 1)) + 'k'"
   ]
  },
  {
   "cell_type": "code",
   "execution_count": 50,
   "metadata": {},
   "outputs": [],
   "source": [
    "mapping_df = pd.read_excel(r\"F:\\Projects\\PPTX_env\\WB_weekly\\Party_mapping.xlsx\")\n",
    "last_7_days_path = r\"C:\\Users\\useer\\Downloads\\WB_Sep_29_Oct_5_data_dump\\WB_Report_data_2024-10-06.xlsx\"\n",
    "overall_path = r\"C:\\Users\\useer\\Downloads\\WB_Sep_29_Oct_5_data_dump\\WB_Report_data_2024-10-06_overall.xlsx\""
   ]
  },
  {
   "cell_type": "code",
   "execution_count": 85,
   "metadata": {},
   "outputs": [],
   "source": [
    "# Read Template\n",
    "ppt = Presentation(r\"F:\\Projects\\PPTX_env\\WB_weekly\\WB_Weekly SMA_template.pptx\")"
   ]
  },
  {
   "cell_type": "code",
   "execution_count": 52,
   "metadata": {},
   "outputs": [],
   "source": [
    "# Slide 1\n",
    "text_box_count = 0\n",
    "for shape in ppt.slides[0].shapes:\n",
    "    if shape.has_text_frame:\n",
    "        text_box_count += 1\n",
    "\n",
    "    if text_box_count == 3:\n",
    "        shape.text = 'Analysis Date:' + analysis_date\n",
    "        shape.text_frame.paragraphs[0].runs[0].font.name = 'Bahnschrift'\n",
    "        shape.text_frame.paragraphs[0].runs[0].font.size = Pt(20)\n",
    "\n",
    "    if shape.has_table:\n",
    "        shape.table.rows[0].cells[1].text = start_date.strftime(\"%d %b, %Y\")\n",
    "        shape.table.rows[0].cells[3].text = end_date.strftime(\"%d %b, %Y\")"
   ]
  },
  {
   "cell_type": "code",
   "execution_count": 53,
   "metadata": {},
   "outputs": [],
   "source": [
    "platform_metric_sheets = ['Facebook_all_stats_post', 'Instagram_all_stats_post', 'Twitter_all_stats_post', 'YouTube_all_stats_post']\n",
    "\n",
    "dfs_last_7 = [pd.read_excel(last_7_days_path, sheet_name=sheet) for sheet in platform_metric_sheets]\n",
    "dfs_overall = [pd.read_excel(overall_path, sheet_name=sheet) for sheet in platform_metric_sheets]"
   ]
  },
  {
   "cell_type": "code",
   "execution_count": 54,
   "metadata": {},
   "outputs": [],
   "source": [
    "for i, sheet_name in enumerate(platform_metric_sheets):\n",
    "    dfs_last_7[i] = dfs_last_7[i][dfs_last_7[i]['mapping'] == 'Party']\n",
    "\n",
    "    if i == 3:\n",
    "        dfs_last_7[i] = dfs_last_7[i][['Name', 'Followers', 'Avg Video Views', 'Avg Engagement', 'Engagement Rate']]\n",
    "    else:\n",
    "        dfs_last_7[i] = dfs_last_7[i][['Name', 'Followers', 'Avg. Post Per Day', 'Avg Engagement', 'Engagement Rate']]\n",
    "\n",
    "    dfs_last_7[i] = dfs_last_7[i].dropna(subset = 'Followers')\n",
    "    dfs_last_7[i]['Name'] = pd.Categorical(dfs_last_7[i]['Name'], categories = mapping_df['Name'].tolist(), ordered=True)\n",
    "    dfs_last_7[i] = dfs_last_7[i].sort_values('Name')\n",
    "    dfs_last_7[i].columns = [dfs_last_7[i].columns[0]] + [f\"{col}_{sheet_name[:-15]}\" for col in dfs_last_7[i].columns[1:]]\n",
    "\n",
    "last_7_df_party = merge_dfs(dfs_last_7, 'Name')"
   ]
  },
  {
   "cell_type": "code",
   "execution_count": 55,
   "metadata": {},
   "outputs": [],
   "source": [
    "for i, sheet_name in enumerate(platform_metric_sheets):\n",
    "    dfs_overall[i] = dfs_overall[i][dfs_overall[i]['mapping'] == 'Party']\n",
    "    # dfs_overall[i] = pd.merge(dfs_overall[i], mapping_df, how='left', left_on = 'presence_handle', right_on = sheet_name[:-15])\n",
    "\n",
    "    if i == 3:\n",
    "        dfs_overall[i] = dfs_overall[i][['Name', 'Followers', 'Avg Video Views', 'Avg Engagement', 'Engagement Rate']]\n",
    "        # dfs_overall[i] = dfs_overall[i].rename(columns={'presence_handle': 'Name'})\n",
    "    else:\n",
    "        dfs_overall[i] = dfs_overall[i][['Name', 'Followers', 'Avg. Post Per Day', 'Avg Engagement', 'Engagement Rate']]\n",
    "\n",
    "    dfs_overall[i] = dfs_overall[i].dropna(subset = 'Followers')\n",
    "    dfs_overall[i]['Name'] = pd.Categorical(dfs_overall[i]['Name'], categories = mapping_df['Name'].tolist(), ordered=True)\n",
    "    dfs_overall[i] = dfs_overall[i].sort_values('Name')\n",
    "    dfs_overall[i].columns = [dfs_overall[i].columns[0]] + [f\"{col}_{sheet_name[:-15]}\" for col in dfs_overall[i].columns[1:]]\n",
    "\n",
    "overall_df_party = merge_dfs(dfs_overall, 'Name')"
   ]
  },
  {
   "cell_type": "code",
   "execution_count": 56,
   "metadata": {},
   "outputs": [],
   "source": [
    "# Slide 7\n",
    "table_count = 0\n",
    "\n",
    "for shape in ppt.slides[9].shapes:\n",
    "    if shape.has_table:\n",
    "        table_count += 1\n",
    "\n",
    "        if table_count == 2:\n",
    "            for row_index, row in enumerate(shape.table.rows):\n",
    "                if row_index > 2:\n",
    "                    for col_index, cell in enumerate(row.cells):\n",
    "                        if col_index > 0:\n",
    "                            if pd.isna(overall_df_party.iloc[row_index - 3, col_index]):\n",
    "                                cell.text = '-'\n",
    "                                text_formatter(cell.text_frame, 11, \"Bahnschrift\", PP_ALIGN.CENTER, \"#000000\")\n",
    "                            else:\n",
    "                                if col_index in [1, 5, 9, 13]:\n",
    "                                    cell.text = f\"{mil_k_mapper(overall_df_party.iloc[row_index - 3, col_index])}\"\n",
    "                                else:\n",
    "                                    cell.text = f\"{overall_df_party.iloc[row_index - 3, col_index]:,.1f}\"\n",
    "                                text_formatter(cell.text_frame, 11, \"Bahnschrift\", PP_ALIGN.CENTER, \"#000000\")\n",
    "\n",
    "        if table_count == 1:\n",
    "            for row_index, row in enumerate(shape.table.rows):\n",
    "                if row_index > 2:\n",
    "                    for col_index, cell in enumerate(row.cells):\n",
    "                        if col_index > 0:\n",
    "                            if pd.isna(last_7_df_party.iloc[row_index - 3, col_index]):\n",
    "                                cell.text = '-'\n",
    "                                text_formatter(cell.text_frame, 11, \"Bahnschrift\", PP_ALIGN.CENTER, \"#000000\")\n",
    "                            else:\n",
    "                                if col_index in [1, 5, 9, 13]:\n",
    "                                    cell.text = f\"{mil_k_mapper(last_7_df_party.iloc[row_index - 3, col_index])}\"\n",
    "                                else:\n",
    "                                    cell.text = f\"{last_7_df_party.iloc[row_index - 3, col_index]:,.1f}\"\n",
    "                                text_formatter(cell.text_frame, 11, \"Bahnschrift\", PP_ALIGN.CENTER, \"#000000\")"
   ]
  },
  {
   "cell_type": "code",
   "execution_count": 86,
   "metadata": {},
   "outputs": [],
   "source": [
    "ppt_image_order_party = ['Followers', 'count_of_active_days', 'Count of Active Days', 'Total Post', 'Total Posts', 'Avg. Post Per Day', 'Total Engagement', 'Avg Engagement', 'Engagement Rate', 'Total Video Views', 'Avg Video Views', 'impressions']\n",
    "platform_order = ['Facebook', 'Twitter', 'Instagram', 'YouTube']"
   ]
  },
  {
   "cell_type": "markdown",
   "metadata": {},
   "source": [
    "Last 7 days"
   ]
  },
  {
   "cell_type": "code",
   "execution_count": 58,
   "metadata": {},
   "outputs": [],
   "source": [
    "# Slide 17 - 27\n",
    "party_metric_slide_index = 16\n",
    "platform_index = 0\n",
    "delta_x = Inches(2.28)\n",
    "x0 = Inches(1.08) \n",
    "y0 = Inches(2.07)\n",
    "w = Inches(2.39)  \n",
    "h = Inches(1.24)\n",
    "starter_bias = Inches(0.47)\n",
    "\n",
    "while party_metric_slide_index < 27:\n",
    "    marker_count = 0\n",
    "    is_starter_slide = True\n",
    "    for index, image in enumerate(ppt_image_order_party):\n",
    "        image_path = rf\"F:\\Projects\\PPTX_env\\WB_weekly\\bar_chart_images\\{platform_order[platform_index]}\\Party\\{image}.png\"\n",
    "        try:\n",
    "            if image in ['Followers', 'Total Engagement']:\n",
    "                ppt.slides[party_metric_slide_index].shapes.add_picture(image_path, x0 + marker_count * delta_x - starter_bias, y0, width = w * 1.23, height=h)\n",
    "            else:\n",
    "                ppt.slides[party_metric_slide_index].shapes.add_picture(image_path, x0 + marker_count * delta_x, y0, width=w, height=h)\n",
    "            marker_count += 1\n",
    "        except:\n",
    "            pass\n",
    "\n",
    "        if marker_count == 4 and is_starter_slide:\n",
    "            party_metric_slide_index += 1\n",
    "            marker_count = 0\n",
    "            is_starter_slide = False\n",
    "            \n",
    "    if platform_index != 3:\n",
    "        ppt.slides[party_metric_slide_index - 1].shapes.add_picture(rf\"F:\\Projects\\PPTX_env\\WB_weekly\\bar_chart_images\\{platform_order[platform_index]}\\Party\\Post_distribution.png\", x0 + 4 * delta_x, y0, width = w, height = h)\n",
    "        \n",
    "    platform_index += 1\n",
    "    marker_count = 0\n",
    "    party_metric_slide_index += 2"
   ]
  },
  {
   "cell_type": "markdown",
   "metadata": {},
   "source": [
    "Changes"
   ]
  },
  {
   "cell_type": "code",
   "execution_count": 59,
   "metadata": {},
   "outputs": [],
   "source": [
    "# Slide 17 - 27\n",
    "party_metric_slide_index = 16\n",
    "platform_index = 0\n",
    "delta_x = Inches(2.28)\n",
    "x0 = Inches(1.08) \n",
    "y0 = Inches(4.28)\n",
    "w = Inches(2.39)  \n",
    "h = Inches(1.24)\n",
    "starter_bias = Inches(0.47)\n",
    "\n",
    "while party_metric_slide_index < 27:\n",
    "    marker_count = 0\n",
    "    is_starter_slide = True\n",
    "    for index, image in enumerate(ppt_image_order_party):\n",
    "        image_path = rf\"F:\\Projects\\PPTX_env\\WB_weekly\\bar_chart_images\\{platform_order[platform_index]}_delta_metrics\\Party\\{image}.png\"\n",
    "        try:\n",
    "            if image in ['Followers', 'Total Engagement']:\n",
    "                ppt.slides[party_metric_slide_index].shapes.add_picture(image_path, x0 + marker_count * delta_x - starter_bias, y0, width = w * 1.23, height=h)\n",
    "            else:\n",
    "                ppt.slides[party_metric_slide_index].shapes.add_picture(image_path, x0 + marker_count * delta_x, y0, width=w, height=h)\n",
    "            marker_count += 1\n",
    "        except:\n",
    "            pass\n",
    "\n",
    "        if marker_count == 4 and is_starter_slide:\n",
    "            party_metric_slide_index += 1\n",
    "            marker_count = 0\n",
    "            is_starter_slide = False\n",
    "\n",
    "    platform_index += 1\n",
    "    marker_count = 0\n",
    "    party_metric_slide_index += 2"
   ]
  },
  {
   "cell_type": "code",
   "execution_count": 60,
   "metadata": {},
   "outputs": [],
   "source": [
    "platform_metric_sheets = ['Facebook_all_stats_post', 'Instagram_all_stats_post', 'Twitter_all_stats_post', 'YouTube_all_stats_post']\n",
    "\n",
    "dfs_last_7 = [pd.read_excel(last_7_days_path, sheet_name=sheet) for sheet in platform_metric_sheets]\n",
    "dfs_overall = [pd.read_excel(overall_path, sheet_name=sheet) for sheet in platform_metric_sheets]"
   ]
  },
  {
   "cell_type": "code",
   "execution_count": 61,
   "metadata": {},
   "outputs": [],
   "source": [
    "for i, sheet_name in enumerate(platform_metric_sheets):\n",
    "    dfs_last_7[i] = dfs_last_7[i][dfs_last_7[i]['mapping'] == 'Leader']\n",
    "    # dfs_last_7[i] = pd.merge(dfs_last_7[i], mapping_df, how='left', left_on = 'presence_handle', right_on = sheet_name[:-15])\n",
    "\n",
    "    if i == 3:\n",
    "        dfs_last_7[i] = dfs_last_7[i][['Name', 'Followers', 'Avg Video Views', 'Avg Engagement', 'Engagement Rate']]\n",
    "        # dfs_last_7[i] = dfs_last_7[i].rename(columns={'presence_handle': 'Name'})\n",
    "    else:\n",
    "        dfs_last_7[i] = dfs_last_7[i][['Name', 'Followers', 'Avg. Post Per Day', 'Avg Engagement', 'Engagement Rate']]\n",
    "        \n",
    "    dfs_last_7[i] = dfs_last_7[i].dropna(subset = 'Followers')\n",
    "    dfs_last_7[i]['Name'] = pd.Categorical(dfs_last_7[i]['Name'], categories = mapping_df['Name'].tolist(), ordered=True)\n",
    "    dfs_last_7[i] = dfs_last_7[i].sort_values('Name')\n",
    "    dfs_last_7[i].columns = [dfs_last_7[i].columns[0]] + [f\"{col}_{sheet_name[:-15]}\" for col in dfs_last_7[i].columns[1:]]\n",
    "\n",
    "last_7_df_leader = merge_dfs(dfs_last_7, 'Name')"
   ]
  },
  {
   "cell_type": "code",
   "execution_count": 62,
   "metadata": {},
   "outputs": [],
   "source": [
    "for i, sheet_name in enumerate(platform_metric_sheets):\n",
    "    dfs_overall[i] = dfs_overall[i][dfs_overall[i]['mapping'] == 'Leader']\n",
    "    # dfs_overall[i] = pd.merge(dfs_overall[i], mapping_df, how='left', left_on = 'presence_handle', right_on = sheet_name[:-15])\n",
    "\n",
    "    if i == 3:\n",
    "        dfs_overall[i] = dfs_overall[i][['Name', 'Followers', 'Avg Video Views', 'Avg Engagement', 'Engagement Rate']]\n",
    "        # dfs_overall[i] = dfs_overall[i].rename(columns={'presence_handle': 'Name'})\n",
    "    else:\n",
    "        dfs_overall[i] = dfs_overall[i][['Name', 'Followers', 'Avg. Post Per Day', 'Avg Engagement', 'Engagement Rate']]\n",
    "\n",
    "    dfs_overall[i] = dfs_overall[i].dropna(subset = 'Followers')\n",
    "    dfs_overall[i]['Name'] = pd.Categorical(dfs_overall[i]['Name'], categories = mapping_df['Name'].tolist(), ordered=True)\n",
    "    dfs_overall[i] = dfs_overall[i].sort_values('Name')\n",
    "    dfs_overall[i].columns = [dfs_overall[i].columns[0]] + [f\"{col}_{sheet_name[:-15]}\" for col in dfs_overall[i].columns[1:]]\n",
    "\n",
    "overall_df_leader = merge_dfs(dfs_overall, 'Name')"
   ]
  },
  {
   "cell_type": "code",
   "execution_count": 87,
   "metadata": {},
   "outputs": [],
   "source": [
    "target_leader_list = ['Mamata Banerjee', 'Abhishek Banerjee', 'Suvendu Adhikari', 'Dilip Ghosh', 'Adhir Ranjan Chowdhury', 'Md Salim', 'Sujan Chakraborty']"
   ]
  },
  {
   "cell_type": "code",
   "execution_count": 64,
   "metadata": {},
   "outputs": [],
   "source": [
    "last_7_df_leader = last_7_df_leader[last_7_df_leader['Name'].isin(target_leader_list)]\n",
    "overall_df_leader = overall_df_leader[overall_df_leader['Name'].isin(target_leader_list)]"
   ]
  },
  {
   "cell_type": "code",
   "execution_count": 65,
   "metadata": {},
   "outputs": [],
   "source": [
    "# Slide 35\n",
    "text_box_count = 0\n",
    "\n",
    "for shape in ppt.slides[35].shapes:\n",
    "\n",
    "    if shape.has_table:\n",
    "\n",
    "        for row_index, row in enumerate(shape.table.rows):\n",
    "            if row_index > 2:\n",
    "                for col_index, cell in enumerate(row.cells):\n",
    "                    if col_index > 1:\n",
    "                        if pd.isna(last_7_df_leader.iloc[row_index - 3, col_index - 1]):\n",
    "                            cell.text = '-'\n",
    "                            text_formatter(cell.text_frame, 11, \"Bahnschrift\", PP_ALIGN.CENTER, \"#000000\")\n",
    "                        else:\n",
    "                            if col_index in [2, 6, 10, 14]:\n",
    "                                cell.text = f\"{mil_k_mapper(last_7_df_leader.iloc[row_index - 3, col_index - 1])}\"\n",
    "                            else:\n",
    "                                cell.text = f\"{last_7_df_leader.iloc[row_index - 3, col_index - 1]:,.1f}\"\n",
    "                            text_formatter(cell.text_frame, 11, \"Bahnschrift\", PP_ALIGN.CENTER, \"#000000\")"
   ]
  },
  {
   "cell_type": "code",
   "execution_count": 66,
   "metadata": {},
   "outputs": [],
   "source": [
    "# Slide 36\n",
    "text_box_count = 0\n",
    "\n",
    "for shape in ppt.slides[34].shapes:\n",
    "\n",
    "    if shape.has_table:\n",
    "\n",
    "        for row_index, row in enumerate(shape.table.rows):\n",
    "            if row_index > 2:\n",
    "                for col_index, cell in enumerate(row.cells):\n",
    "                    if col_index > 1:\n",
    "                        if pd.isna(overall_df_leader.iloc[row_index - 3, col_index - 1]):\n",
    "                            cell.text = '-'\n",
    "                            text_formatter(cell.text_frame, 11, \"Bahnschrift\", PP_ALIGN.CENTER, \"#000000\")\n",
    "                        else:\n",
    "                            if col_index in [2, 6, 10, 14]:\n",
    "                                cell.text = f\"{mil_k_mapper(overall_df_leader.iloc[row_index - 3, col_index - 1])}\"\n",
    "                            else:\n",
    "                                cell.text = f\"{overall_df_leader.iloc[row_index - 3, col_index - 1]:,.1f}\"\n",
    "                            text_formatter(cell.text_frame, 11, \"Bahnschrift\", PP_ALIGN.CENTER, \"#000000\")"
   ]
  },
  {
   "cell_type": "code",
   "execution_count": 67,
   "metadata": {},
   "outputs": [],
   "source": [
    "ppt_image_order_leader = ['Followers', 'count_of_active_days', 'Count of Active Days', 'Total Post', 'Total Posts', 'Avg. Post Per Day', 'Total Video Views', 'Avg. Views', 'Post_distribution', 'Avg Video Views', 'Total Engagement', 'Avg Engagement', 'Engagement Rate', 'impressions']"
   ]
  },
  {
   "cell_type": "markdown",
   "metadata": {},
   "source": [
    "Normal vertical bar charts (Leader)"
   ]
  },
  {
   "cell_type": "code",
   "execution_count": 68,
   "metadata": {},
   "outputs": [],
   "source": [
    "# Slide 47 - 62\n",
    "leader_metric_slide_index = 47\n",
    "platform_index = 0\n",
    "delta_x = Inches(3.83)    # x0 + delta_x moves 2 charts places\n",
    "x0 = Inches(1.65) \n",
    "y0 = Inches(1.52)\n",
    "w = Inches(1.99)  \n",
    "h = Inches(5.34)\n",
    "starter_bias = Inches(1.5)\n",
    "\n",
    "while leader_metric_slide_index < 63:\n",
    "    if platform_index == 3:\n",
    "        h = h * 0.75\n",
    "    marker_count = 0\n",
    "    for index, image in enumerate(ppt_image_order_leader):\n",
    "        image_path = rf\"F:\\Projects\\PPTX_env\\WB_weekly\\bar_chart_images\\{platform_order[platform_index]}\\Leader\\{image}.png\"\n",
    "        try:\n",
    "            if image in ['Followers', 'Total Engagement', 'Avg. Post Per Day', 'impressions']:\n",
    "                ppt.slides[leader_metric_slide_index].shapes.add_picture(image_path, x0 + marker_count * delta_x - starter_bias, y0, width = w * 1.68, height=h)  \n",
    "            elif image == 'Avg Video Views' and platform_order[platform_index] != 'YouTube':\n",
    "                ppt.slides[leader_metric_slide_index].shapes.add_picture(image_path, x0 + (marker_count - 0.5) * delta_x, y0, width=w, height=h)    \n",
    "            else:\n",
    "                ppt.slides[leader_metric_slide_index].shapes.add_picture(image_path, x0 + marker_count * delta_x, y0, width=w, height=h)\n",
    "\n",
    "            marker_count += 1\n",
    "        except:\n",
    "            if platform_order[platform_index] == 'Instagram' and image == 'Avg Video Views':\n",
    "                marker_count += 1\n",
    "            pass\n",
    "\n",
    "        if marker_count % 3 == 0:\n",
    "            if marker_count == 0 and platform_order[platform_index] == 'YouTube':\n",
    "                pass\n",
    "            else:\n",
    "                leader_metric_slide_index += 1\n",
    "                marker_count = 0\n",
    "\n",
    "    platform_index += 1\n",
    "    \n",
    "    if marker_count != 0:\n",
    "        leader_metric_slide_index += 2"
   ]
  },
  {
   "cell_type": "markdown",
   "metadata": {},
   "source": [
    "% Change metrics for vertical bar charts (Leader)"
   ]
  },
  {
   "cell_type": "code",
   "execution_count": 69,
   "metadata": {},
   "outputs": [],
   "source": [
    "# Slide 47 - 62\n",
    "leader_metric_slide_index = 47\n",
    "platform_index = 0\n",
    "delta_x = Inches(3.83)\n",
    "x0 = Inches(3.57) \n",
    "y0 = Inches(1.52)\n",
    "w = Inches(1.99)  \n",
    "h = Inches(5.34)\n",
    "\n",
    "while leader_metric_slide_index < 63:\n",
    "    if platform_index == 3:\n",
    "        h = h * 0.75\n",
    "    marker_count = 0\n",
    "    for index, image in enumerate(ppt_image_order_leader):\n",
    "        if image == 'Post_distribution' and platform_order[platform_index] != 'YouTube':\n",
    "            marker_count += 1\n",
    "        image_path = rf\"F:\\Projects\\PPTX_env\\WB_weekly\\bar_chart_images\\{platform_order[platform_index]}_delta_metrics\\Leader\\{image}.png\"\n",
    "        try:\n",
    "            if image == 'Avg Video Views' and platform_order[platform_index] != 'YouTube':\n",
    "                ppt.slides[leader_metric_slide_index].shapes.add_picture(image_path, x0 + (marker_count - 0.5) * delta_x, y0, width=w, height=h)\n",
    "            else:    \n",
    "                ppt.slides[leader_metric_slide_index].shapes.add_picture(image_path, x0 + marker_count * delta_x, y0, width=w, height=h)\n",
    "            marker_count += 1\n",
    "        except:\n",
    "            if platform_order[platform_index] == 'Instagram' and image == 'Avg Video Views':\n",
    "                marker_count += 1\n",
    "            pass\n",
    "\n",
    "        if marker_count % 3 == 0:\n",
    "            if marker_count == 0 and platform_order[platform_index] == 'YouTube':\n",
    "                pass\n",
    "            else:\n",
    "                leader_metric_slide_index += 1\n",
    "                marker_count = 0\n",
    "\n",
    "    platform_index += 1\n",
    "    \n",
    "    if marker_count != 0:\n",
    "        leader_metric_slide_index += 2"
   ]
  },
  {
   "cell_type": "markdown",
   "metadata": {},
   "source": [
    "Normal vertical bar charts (Campaign)"
   ]
  },
  {
   "cell_type": "code",
   "execution_count": 70,
   "metadata": {},
   "outputs": [],
   "source": [
    "# Slide 66 - 80\n",
    "leader_metric_slide_index = 65\n",
    "platform_index = 0\n",
    "delta_x = Inches(3.83)\n",
    "x0 = Inches(1.65) \n",
    "y0 = Inches(1.52)\n",
    "w = Inches(1.99)  \n",
    "h = Inches(1.24)\n",
    "\n",
    "while leader_metric_slide_index < 80:\n",
    "    marker_count = 0\n",
    "    for index, image in enumerate(ppt_image_order_leader):\n",
    "        image_path = rf\"F:\\Projects\\PPTX_env\\WB_weekly\\bar_chart_images\\{platform_order[platform_index]}\\Campaign\\{image}.png\"\n",
    "        try:\n",
    "            if image in ['Followers', 'Total Engagement', 'Avg. Post Per Day', 'impressions']:\n",
    "                ppt.slides[leader_metric_slide_index].shapes.add_picture(image_path, x0 + marker_count * delta_x - starter_bias, y0, width = w * 1.68, height=h)\n",
    "            elif image == 'Avg Video Views' and platform_order[platform_index] != 'YouTube':\n",
    "                ppt.slides[leader_metric_slide_index].shapes.add_picture(image_path, x0 + (marker_count - 0.5) * delta_x, y0, width=w, height=h)\n",
    "            else:\n",
    "                ppt.slides[leader_metric_slide_index].shapes.add_picture(image_path, x0 + marker_count * delta_x, y0, width=w, height=h)\n",
    "            marker_count += 1\n",
    "        except:\n",
    "            if platform_order[platform_index] == 'Instagram' and image == 'Avg Video Views':\n",
    "                marker_count += 1\n",
    "            pass\n",
    "\n",
    "        if marker_count % 3 == 0:\n",
    "            if marker_count == 0 and platform_order[platform_index] == 'YouTube':\n",
    "                pass\n",
    "            else:\n",
    "                leader_metric_slide_index += 1\n",
    "                marker_count = 0\n",
    "\n",
    "    platform_index += 1\n",
    "    \n",
    "    if marker_count != 0:\n",
    "        leader_metric_slide_index += 2"
   ]
  },
  {
   "cell_type": "markdown",
   "metadata": {},
   "source": [
    "% Change metrics for vertical bar charts (Campaign)"
   ]
  },
  {
   "cell_type": "code",
   "execution_count": 71,
   "metadata": {},
   "outputs": [],
   "source": [
    "# Slide 66 - 80\n",
    "leader_metric_slide_index = 65\n",
    "platform_index = 0\n",
    "delta_x = Inches(3.83)\n",
    "x0 = Inches(3.55) \n",
    "y0 = Inches(1.52)\n",
    "w = Inches(1.99)  \n",
    "h = Inches(1.24)\n",
    "\n",
    "while leader_metric_slide_index < 80:\n",
    "    marker_count = 0\n",
    "    for index, image in enumerate(ppt_image_order_leader):\n",
    "        if image == 'Post_distribution' and platform_order[platform_index] != 'YouTube':\n",
    "                marker_count += 1\n",
    "        image_path = rf\"F:\\Projects\\PPTX_env\\WB_weekly\\bar_chart_images\\{platform_order[platform_index]}_delta_metrics\\Campaign\\{image}.png\"\n",
    "        try:\n",
    "            if image == 'Avg Video Views' and platform_order[platform_index] != 'YouTube':\n",
    "                ppt.slides[leader_metric_slide_index].shapes.add_picture(image_path, x0 + (marker_count - 0.5) * delta_x, y0, width=w, height=h)\n",
    "            else:    \n",
    "                ppt.slides[leader_metric_slide_index].shapes.add_picture(image_path, x0 + marker_count * delta_x, y0, width=w, height=h)\n",
    "            marker_count += 1\n",
    "        except:\n",
    "            if platform_order[platform_index] == 'Instagram' and image == 'Avg Video Views':\n",
    "                marker_count += 1\n",
    "            pass\n",
    "\n",
    "        if marker_count % 3 == 0:\n",
    "            if marker_count == 0 and platform_order[platform_index] == 'YouTube':\n",
    "                pass\n",
    "            else:\n",
    "                leader_metric_slide_index += 1\n",
    "                marker_count = 0\n",
    "\n",
    "    platform_index += 1\n",
    "    \n",
    "    if marker_count != 0:\n",
    "        leader_metric_slide_index += 2"
   ]
  },
  {
   "cell_type": "code",
   "execution_count": 72,
   "metadata": {},
   "outputs": [],
   "source": [
    "date_list = [(start_date + timedelta(days=i)).strftime('%d-%b') for i in range(7)]"
   ]
  },
  {
   "cell_type": "code",
   "execution_count": 88,
   "metadata": {},
   "outputs": [],
   "source": [
    "leader_colors = {\n",
    "    \"AITC\": \"#20C646\",       \n",
    "    \"Green\": \"#00FF00\",     \n",
    "    \"BJP\": '#f97d09',       \n",
    "    \"Blue\": \"#0000FF\",    \n",
    "    \"INC\": '#87CEEB',    \n",
    "    \"Teal\": \"#008080\",      \n",
    "    \"CPIM\": \"#FF0000\"    \n",
    "}"
   ]
  },
  {
   "cell_type": "code",
   "execution_count": 89,
   "metadata": {},
   "outputs": [
    {
     "data": {
      "text/plain": [
       "{'Mamata Banerjee': '#20C646',\n",
       " 'Abhishek Banerjee': '#00FF00',\n",
       " 'Suvendu Adhikari': '#f97d09',\n",
       " 'Dilip Ghosh': '#0000FF',\n",
       " 'Adhir Ranjan Chowdhury': '#87CEEB',\n",
       " 'Md Salim': '#008080',\n",
       " 'Sujan Chakraborty': '#FF0000',\n",
       " 'AITC': '#20C646',\n",
       " 'BJP': '#f97d09',\n",
       " 'INC': '#87CEEB',\n",
       " 'CPI(M)': '#FF0000'}"
      ]
     },
     "execution_count": 89,
     "metadata": {},
     "output_type": "execute_result"
    }
   ],
   "source": [
    "color_mapping = dict(zip(target_leader_list + ['AITC', 'BJP', 'INC', 'CPI(M)'], list(leader_colors.values()) + ['#20C646', '#f97d09', '#87CEEB', '#FF0000']))\n",
    "color_mapping"
   ]
  },
  {
   "cell_type": "code",
   "execution_count": 90,
   "metadata": {},
   "outputs": [],
   "source": [
    "x1 = Inches(0.15)\n",
    "x2 = Inches(6.91)\n",
    "y1 = Inches(1.48)\n",
    "y2 = Inches(4.50)\n",
    "w = Inches(6.22)\n",
    "h =  Inches(2.45)"
   ]
  },
  {
   "cell_type": "code",
   "execution_count": 91,
   "metadata": {},
   "outputs": [],
   "source": [
    "metric_coord_mapping = {'engagement_rate':(x2, y2), 'moving_post_link':(x1, y1), 'followers':(x2, y1), 'average_engagement':(x1, y2)}"
   ]
  },
  {
   "cell_type": "markdown",
   "metadata": {},
   "source": [
    "Trendlines Party"
   ]
  },
  {
   "cell_type": "code",
   "execution_count": 92,
   "metadata": {},
   "outputs": [],
   "source": [
    "starter_slide = 10\n",
    "for platform_index, platform in enumerate(pd.ExcelFile(r\"C:\\Users\\useer\\Downloads\\WB_Sep_29_Oct_5_data_dump\\WB_report_7_DMA.xlsx\").sheet_names):\n",
    "    dma_df = pd.read_excel(r\"C:\\Users\\useer\\Downloads\\WB_Sep_29_Oct_5_data_dump\\WB_report_7_DMA.xlsx\", sheet_name = platform)\n",
    "    dma_df = pd.merge(dma_df, mapping_df, how='left', left_on = 'presence_handle', right_on = platform)\n",
    "    foll_df = pd.read_excel(last_7_days_path, sheet_name = platform + '_all_stats_post')\n",
    "\n",
    "    for handle in list(foll_df['presence_handle'].unique()):\n",
    "        dma_df.loc[dma_df['presence_handle'] == handle, 'followers'] = foll_df[foll_df['presence_handle'] == handle]['Followers'].values[0]\n",
    "\n",
    "    dma_df = dma_df[['Name', 'mapping', 'engagement_rate', 'followers', 'moving_post_link','average_engagement']]\n",
    "    dma_df = dma_df.fillna(0)\n",
    "    dma_df_party = dma_df[dma_df['mapping'] == 'Party']\n",
    "    for metric_index, metric in enumerate(list(dma_df.columns[2:])):\n",
    "        chart_data = CategoryChartData()\n",
    "        chart_data.categories = [(start_date + timedelta(days=i)).strftime('%d-%b') for i in range(7)]\n",
    "\n",
    "        platform_party_presence_list = []\n",
    "\n",
    "        for party in dma_df_party['Name'].unique().tolist():\n",
    "            if party in list(dma_df_party['Name'].unique()):\n",
    "                chart_data.add_series(metric, dma_df_party[dma_df_party['Name'] == party].iloc[-7:][metric].tolist())\n",
    "                platform_party_presence_list.append(party)\n",
    "\n",
    "        chart = ppt.slides[starter_slide + platform_index].shapes.add_chart(\n",
    "            XL_CHART_TYPE.LINE, metric_coord_mapping[metric][0], metric_coord_mapping[metric][1], w, h, chart_data\n",
    "        ).chart\n",
    "        \n",
    "        chart.has_legend = False\n",
    "        chart.value_axis.visible = False\n",
    "        chart.value_axis.major_gridlines.format.line.fill.background()\n",
    "        x_axis = chart.category_axis\n",
    "        x_axis.visible = True  \n",
    "        x_axis.tick_marks = None\n",
    "        x_axis.tick_labels.font.size = Pt(10) \n",
    "        x_axis.tick_labels.font.name = 'Bahnschrift' \n",
    "        x_axis.tick_labels.font.bold = False\n",
    "        for series_index, series in enumerate(chart.series):\n",
    "            line = series.format.line\n",
    "            line.width = Pt(1.5)\n",
    "            line.color.rgb = hex_to_rgb(color_mapping[platform_party_presence_list[series_index]])\n",
    "            series.marker.style = XL_MARKER_STYLE.CIRCLE\n",
    "            series.marker.format.line.color.rgb = hex_to_rgb(color_mapping[platform_party_presence_list[series_index]])\n",
    "            series.marker.format.line.width = Pt(1.5)\n",
    "            series.marker.format.fill.solid()\n",
    "            series.marker.format.fill.fore_color.rgb = hex_to_rgb(color_mapping[platform_party_presence_list[series_index]])\n",
    "\n",
    "            for point_index, point in enumerate(series.points):\n",
    "                if metric == 'followers':\n",
    "                    point.data_label.text_frame.text = mil_k_mapper(dma_df_party[dma_df_party['Name'] == platform_party_presence_list[series_index]].iloc[-7:][metric].tolist()[point_index])\n",
    "\n",
    "                else:\n",
    "                    point.data_label.text_frame.text = \"{:,.1f}\".format(dma_df_party[dma_df_party['Name'] == platform_party_presence_list[series_index]].iloc[-7:][metric].tolist()[point_index])\n",
    "\n",
    "                text_formatter(point.data_label.text_frame, 8, 'Bahnschrift', PP_ALIGN.CENTER, \"#000000\")\n",
    "                point.data_label.position = XL_LABEL_POSITION.ABOVE"
   ]
  },
  {
   "cell_type": "markdown",
   "metadata": {},
   "source": [
    "Trendlines Leader"
   ]
  },
  {
   "cell_type": "code",
   "execution_count": 93,
   "metadata": {},
   "outputs": [],
   "source": [
    "starter_slide = 36\n",
    "for platform_index, platform in enumerate(pd.ExcelFile(r\"C:\\Users\\useer\\Downloads\\WB_Sep_29_Oct_5_data_dump\\WB_report_7_DMA.xlsx\").sheet_names):\n",
    "    dma_df = pd.read_excel(r\"C:\\Users\\useer\\Downloads\\WB_Sep_29_Oct_5_data_dump\\WB_report_7_DMA.xlsx\", sheet_name = platform)\n",
    "    dma_df = pd.merge(dma_df, mapping_df, how='left', left_on = 'presence_handle', right_on = platform)\n",
    "    foll_df = pd.read_excel(last_7_days_path, sheet_name = platform + '_all_stats_post')\n",
    "\n",
    "    for handle in list(foll_df['presence_handle'].unique()):\n",
    "        dma_df.loc[dma_df['presence_handle'] == handle, 'followers'] = foll_df[foll_df['presence_handle'] == handle]['Followers'].values[0]\n",
    "\n",
    "    dma_df = dma_df[['Name', 'mapping', 'engagement_rate', 'followers', 'moving_post_link','average_engagement']]\n",
    "    dma_df = dma_df.fillna(0)\n",
    "    dma_df_leader = dma_df[dma_df['mapping'] == 'Leader']\n",
    "\n",
    "    for metric_index, metric in enumerate(list(dma_df.columns[2:])):\n",
    "        chart_data = CategoryChartData()\n",
    "        chart_data.categories = [(start_date + timedelta(days=i)).strftime('%d-%b') for i in range(7)]\n",
    "\n",
    "        platform_leader_presence_list = []\n",
    "\n",
    "        for leader in target_leader_list:\n",
    "            if leader in list(dma_df_leader['Name'].unique()):\n",
    "                chart_data.add_series(metric, dma_df_leader[dma_df_leader['Name'] == leader].iloc[-7:][metric].tolist())\n",
    "                platform_leader_presence_list.append(leader)\n",
    "\n",
    "        chart = ppt.slides[starter_slide + platform_index].shapes.add_chart(\n",
    "            XL_CHART_TYPE.LINE, metric_coord_mapping[metric][0], metric_coord_mapping[metric][1], w, h, chart_data\n",
    "        ).chart\n",
    "        \n",
    "        chart.has_legend = False\n",
    "        chart.value_axis.visible = False\n",
    "        chart.value_axis.major_gridlines.format.line.fill.background()\n",
    "        x_axis = chart.category_axis\n",
    "        x_axis.visible = True  \n",
    "        x_axis.tick_marks = None\n",
    "        x_axis.tick_labels.font.size = Pt(10) \n",
    "        x_axis.tick_labels.font.name = 'Bahnschrift' \n",
    "        x_axis.tick_labels.font.bold = False\n",
    "        \n",
    "        for series_index, series in enumerate(chart.series):\n",
    "            line = series.format.line\n",
    "            line.width = Pt(1.5)\n",
    "            line.color.rgb = hex_to_rgb(color_mapping[platform_leader_presence_list[series_index]])\n",
    "            series.marker.style = XL_MARKER_STYLE.CIRCLE\n",
    "            series.marker.format.line.color.rgb = hex_to_rgb(color_mapping[platform_leader_presence_list[series_index]])\n",
    "            series.marker.format.line.width = Pt(1.5)\n",
    "            series.marker.format.fill.solid()\n",
    "            series.marker.format.fill.fore_color.rgb = hex_to_rgb(color_mapping[platform_leader_presence_list[series_index]])\n",
    "\n",
    "            for point_index, point in enumerate(series.points):\n",
    "                if metric == 'followers':\n",
    "                    point.data_label.text_frame.text = mil_k_mapper(dma_df_leader[dma_df_leader['Name'] == platform_leader_presence_list[series_index]].iloc[-7:][metric].tolist()[point_index])\n",
    "\n",
    "                else:\n",
    "                    point.data_label.text_frame.text = \"{:,.1f}\".format(dma_df_leader[dma_df_leader['Name'] == platform_leader_presence_list[series_index]].iloc[-7:][metric].tolist()[point_index])\n",
    "\n",
    "                text_formatter(point.data_label.text_frame, 8, 'Bahnschrift', PP_ALIGN.CENTER, \"#000000\")\n",
    "                point.data_label.position = XL_LABEL_POSITION.ABOVE"
   ]
  },
  {
   "cell_type": "code",
   "execution_count": 94,
   "metadata": {},
   "outputs": [],
   "source": [
    "date_slides = [10, 11, 12, 13, 14, 17, 18, 20, 21, 23, 24, 26, 27, 35, 36, 37, 38, 39, 40, 48, 49, 50, 52, 53, 54, 55, 57, 58, 59, 61, 62, 63, 66, 67, 68, 70, 71, 72, 73, 75, 77, 79, 81]\n",
    "text = f'*Duration: {start_date.strftime(\"%d %b, %Y\")} – {end_date.strftime(\"%d %b, %Y\")}'"
   ]
  },
  {
   "cell_type": "code",
   "execution_count": 95,
   "metadata": {},
   "outputs": [],
   "source": [
    "for slide_no in date_slides:\n",
    "    add_date_textbox(ppt, slide_no - 1, Inches(10.78), Inches(6.85), Inches(1.54), Inches(0.27), text, 10, '#7F6000', 'Bahnschrift')"
   ]
  },
  {
   "cell_type": "code",
   "execution_count": 96,
   "metadata": {},
   "outputs": [],
   "source": [
    "ppt.save(r\"F:\\Projects\\PPTX_env\\WB_weekly\\WB_Weekly SMA_test.pptx\")"
   ]
  },
  {
   "cell_type": "code",
   "execution_count": null,
   "metadata": {},
   "outputs": [],
   "source": []
  },
  {
   "cell_type": "code",
   "execution_count": null,
   "metadata": {},
   "outputs": [],
   "source": []
  }
 ],
 "metadata": {
  "kernelspec": {
   "display_name": "PPTX_env",
   "language": "python",
   "name": "python3"
  },
  "language_info": {
   "codemirror_mode": {
    "name": "ipython",
    "version": 3
   },
   "file_extension": ".py",
   "mimetype": "text/x-python",
   "name": "python",
   "nbconvert_exporter": "python",
   "pygments_lexer": "ipython3",
   "version": "3.9.6"
  }
 },
 "nbformat": 4,
 "nbformat_minor": 2
}
