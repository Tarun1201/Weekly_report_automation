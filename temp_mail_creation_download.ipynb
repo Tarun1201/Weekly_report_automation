{
 "cells": [
  {
   "cell_type": "code",
   "execution_count": 1,
   "metadata": {},
   "outputs": [],
   "source": [
    "import pandas as pd \n",
    "from selenium import webdriver\n",
    "from selenium.webdriver.common.by import By\n",
    "from selenium.webdriver.support.ui import WebDriverWait\n",
    "from selenium.webdriver.support import expected_conditions as EC\n",
    "from selenium.webdriver.common.action_chains import ActionChains\n",
    "from selenium.common.exceptions import StaleElementReferenceException\n",
    "from selenium.webdriver.chrome.service import Service\n",
    "from selenium.webdriver.support.ui import Select \n",
    "from webdriver_manager.chrome import ChromeDriverManager\n",
    "from selenium.webdriver.chrome.options import Options\n",
    "import undetected_chromedriver as uc\n",
    "import random\n",
    "import string\n",
    "import undetected_chromedriver as uc\n",
    "import os\n",
    "import pyperclip\n",
    "import time\n",
    "from selenium.webdriver.common.keys import Keys\n",
    "import pyautogui\n",
    "from utilities import * "
   ]
  },
  {
   "cell_type": "code",
   "execution_count": 2,
   "metadata": {},
   "outputs": [],
   "source": [
    "# Create a list of user agents\n",
    "user_agents = [\n",
    "    'Mozilla/5.0 (Windows NT 10.0; Win64; x64) AppleWebKit/537.36 (KHTML, like Gecko) Chrome/109.0.0.0 Safari/537.36',\n",
    "    'Mozilla/5.0 (Macintosh; Intel Mac OS X 10_15_7) AppleWebKit/537.36 (KHTML, like Gecko) Chrome/109.0.0.0 Safari/537.36',\n",
    "    'Mozilla/5.0 (Windows NT 10.0; Win64; x64) AppleWebKit/537.36 (KHTML, like Gecko) Chrome/108.0.0.0 Safari/537.36',\n",
    "    'Mozilla/5.0 (Macintosh; Intel Mac OS X 10_15_7) AppleWebKit/537.36 (KHTML, like Gecko) Chrome/108.0.0.0 Safari/537.36',\n",
    "    'Mozilla/5.0 (X11; Linux x86_64) AppleWebKit/537.36 (KHTML, like Gecko) Chrome/108.0.0.0 Safari/537.36',\n",
    "    'Mozilla/5.0 (Macintosh; Intel Mac OS X 10_15_7) AppleWebKit/605.1.15 (KHTML, like Gecko) Version/16.1 Safari/605.1.15',\n",
    "    'Mozilla/5.0 (Macintosh; Intel Mac OS X 13_1) AppleWebKit/605.1.15 (KHTML, like Gecko) Version/16.1 Safari/605.1.15',\n",
    "    'Mozilla/5.0 (Windows NT 10.0; Win64; x64) AppleWebKit/537.36 (KHTML, like Gecko) Edge/109.0.0.0 Chrome/109.0.0.0 Safari/537.36',\n",
    "    'Mozilla/5.0 (Macintosh; Intel Mac OS X 10_15_7) AppleWebKit/537.36 (KHTML, like Gecko) Edge/109.0.0.0 Chrome/109.0.0.0 Safari/537.36',\n",
    "    'Mozilla/5.0 (Windows NT 10.0; Win64; x64) AppleWebKit/537.36 (KHTML, like Gecko) Firefox/109.0.0.0',\n",
    "    'Mozilla/5.0 (Macintosh; Intel Mac OS X 10_15_7) AppleWebKit/537.36 (KHTML, like Gecko) Firefox/109.0.0.0',\n",
    "    'Mozilla/5.0 (Windows NT 10.0; Win64; x64) AppleWebKit/537.36 (KHTML, like Gecko) Safari/109.0.0.0',\n",
    "    'Mozilla/5.0 (Macintosh; Intel Mac OS X 10_15_7) AppleWebKit/537.36 (KHTML, like Gecko) Safari/109.0.0.0',\n",
    "    'Mozilla/5.0 (X11; Linux x86_64) AppleWebKit/537.36 (KHTML, like Gecko) Firefox/109.0.0.0',\n",
    "    'Mozilla/5.0 (X11; Linux x86_64) AppleWebKit/537.36 (KHTML, like Gecko) Edge/109.0.0.0 Chrome/109.0.0.0 Safari/537.36',\n",
    "    'Mozilla/5.0 (Windows NT 10.0; Win64; x64) AppleWebKit/537.36 (KHTML, like Gecko) Opera/109.0.0.0 Chrome/109.0.0.0 Safari/537.36',\n",
    "    'Mozilla/5.0 (Windows NT 10.0; Win64; x64) AppleWebKit/537.36 (KHTML, like Gecko) Brave/109.0.0.0 Chrome/109.0.0.0 Safari/537.36',\n",
    "]"
   ]
  },
  {
   "cell_type": "code",
   "execution_count": 3,
   "metadata": {},
   "outputs": [],
   "source": [
    "# Tor settings\n",
    "\n",
    "geckdriver_path=r'C:\\Users\\useer\\Downloads\\geckodriver-v0.33.0-win-aarch64\\geckodriver.exe'\n",
    "os.environ['webdriver.gecko.driver']=geckdriver_path\n",
    "\n",
    "tor_options = webdriver.FirefoxOptions()\n",
    "download_dir=r'C:\\Users\\useer\\Downloads'\n",
    "\n",
    "tor_options.binary_location = r'C:\\Users\\useer\\OneDrive\\Desktop\\Tor Browser\\Browser\\firefox.exe'\n",
    "\n",
    "tor_options.add_argument('--disable-blink-features=AutomationControlled')\n",
    "tor_options.add_argument('--disable-popup-blocking')\n",
    "tor_options.add_argument(\"--start-fullscreen\")\n",
    "tor_options.add_argument('--disable-extensions')\n",
    "tor_options.add_argument('--no-sandbox')\n",
    "tor_options.add_argument('--disable-dev-shm-usage')\n",
    "tor_options.set_preference(\"browser.download.dir\",download_dir)\n",
    "tor_options.set_preference(\"browser.download.prompt_for_download\",False)\n",
    "tor_options.set_preference(\"browser.download.dir\", download_dir)\n",
    "tor_options.set_preference(\"browser.download.useDownloadDir\", True)\n"
   ]
  },
  {
   "cell_type": "code",
   "execution_count": 15,
   "metadata": {},
   "outputs": [],
   "source": [
    "file_path = r\"C:\\Users\\useer\\Downloads\\WB_template_profiles.xlsx\""
   ]
  },
  {
   "cell_type": "code",
   "execution_count": 16,
   "metadata": {},
   "outputs": [],
   "source": [
    "invalid_profiles = []\n",
    "tempmail_account_mapping = {}"
   ]
  },
  {
   "cell_type": "code",
   "execution_count": 1,
   "metadata": {},
   "outputs": [],
   "source": [
    "for sheet_name in pd.ExcelFile(file_path).sheet_names:  \n",
    "    profile_list_index = 0\n",
    "    print(sheet_name)\n",
    "    input_df = pd.read_excel(file_path, sheet_name = sheet_name).dropna(subset = ['Profile'])\n",
    "    profile_list = input_df['Profile'].to_list()\n",
    "\n",
    "    while profile_list_index < len(profile_list):\n",
    "\n",
    "        user_agent = random.choice(user_agents)\n",
    "        temp_mail, uc_driver = tempmail_copy_email(user_agent)\n",
    "\n",
    "        sign_up_rivaliq(temp_mail)\n",
    "\n",
    "        tor_driver = account_creation(copy_conf_link(uc_driver))\n",
    "            \n",
    "        profile_list_index, tempmail_account_mapping = profile_filler_page(tor_driver, profile_list_index, profile_list, invalid_profiles, temp_mail, tempmail_account_mapping)\n",
    "        time.sleep(5)\n",
    "        tor_driver.quit()\n",
    "        rival_iq_download(sheet_name, tor_driver)\n",
    "\n",
    "        print(profile_list_index * 100 / len(profile_list), '% complete')"
   ]
  }
 ],
 "metadata": {
  "kernelspec": {
   "display_name": "tempmail_new",
   "language": "python",
   "name": "python3"
  },
  "language_info": {
   "codemirror_mode": {
    "name": "ipython",
    "version": 3
   },
   "file_extension": ".py",
   "mimetype": "text/x-python",
   "name": "python",
   "nbconvert_exporter": "python",
   "pygments_lexer": "ipython3",
   "version": "3.8.10"
  }
 },
 "nbformat": 4,
 "nbformat_minor": 2
}
